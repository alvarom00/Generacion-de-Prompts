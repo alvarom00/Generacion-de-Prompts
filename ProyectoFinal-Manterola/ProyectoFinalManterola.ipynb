{
 "cells": [
  {
   "cell_type": "code",
   "execution_count": null,
   "id": "9e9a423d-33e7-41f2-8fca-4c63043e7955",
   "metadata": {},
   "outputs": [],
   "source": [
    "import openai\n",
    "import json\n",
    "from urllib.request import urlopen\n",
    "from PIL import Image\n",
    "from io import BytesIO\n",
    "import os"
   ]
  },
  {
   "cell_type": "code",
   "execution_count": null,
   "id": "fbe093cd-6c2d-4c5b-a516-ed2c49e2cbc6",
   "metadata": {},
   "outputs": [],
   "source": [
    "CACHE_FILE = \"cache_publicidad.json\"\n",
    "API_KEY = \"Introducir API key\"\n",
    "\n",
    "def cargar_cache():\n",
    "    if os.path.exists(CACHE_FILE):\n",
    "        with open(CACHE_FILE, \"r\", encoding=\"utf-8\") as f:\n",
    "            return json.load(f)\n",
    "    return {}\n",
    "\n",
    "def guardar_cache(cache):\n",
    "    with open(CACHE_FILE, \"w\", encoding=\"utf-8\") as f:\n",
    "        json.dump(cache, f, indent=4, ensure_ascii=False)\n",
    "\n",
    "cache = cargar_cache()"
   ]
  },
  {
   "cell_type": "code",
   "execution_count": null,
   "id": "b835d58c-e4dc-415e-820d-2a5b7b9d0465",
   "metadata": {},
   "outputs": [],
   "source": [
    "def generar_texto_publicitario(descripcion, publico, tono):\n",
    "    openai.api_key = API_KEY\n",
    "    prompt = (\n",
    "        f\"Imagina que eres un experto en publicidad. Genera 3 eslóganes atractivos y persuasivos \"\n",
    "        f\"para un negocio de {descripcion}. El público objetivo es {publico} y el tono debe ser {tono}. \"\n",
    "        f\"Cada eslogan debe ser breve (máximo 15 palabras) y altamente persuasivo.\"\n",
    "    )\n",
    "\n",
    "    if prompt in cache:\n",
    "        esloganes_generados = cache[prompt]\n",
    "        print(\"Usando resultado en caché para texto...\")\n",
    "    else:\n",
    "        try:\n",
    "            response = openai.ChatCompletion.create(\n",
    "                model=\"gpt-3.5-turbo\",\n",
    "                messages=[\n",
    "                    {\"role\": \"system\", \"content\": \"Eres un asistente publicitario creativo.\"},\n",
    "                    {\"role\": \"user\", \"content\": prompt}\n",
    "                ],\n",
    "                max_tokens=50,\n",
    "                temperature=0.6,\n",
    "                n=1\n",
    "            )\n",
    "\n",
    "            esloganes_generados = response['choices'][0]['message']['content'].strip().split(\"\\n\")\n",
    "            cache[prompt] = esloganes_generados\n",
    "            guardar_cache(cache)\n",
    "\n",
    "        except Exception as e:\n",
    "            print(f\"Error al generar texto publicitario: {e}\")\n",
    "            return None\n",
    "\n",
    "    print(\"\\nEslóganes Generados:\")\n",
    "    for i, eslogan in enumerate(esloganes_generados, 1):\n",
    "        print(f\"{i}. {eslogan}\")\n",
    "\n",
    "    while True:\n",
    "        try:\n",
    "            seleccion = int(input(\"\\nSelecciona el número del eslogan que prefieras: \"))\n",
    "            if 1 <= seleccion <= len(esloganes_generados):\n",
    "                texto_seleccionado = esloganes_generados[seleccion - 1]\n",
    "                break\n",
    "            else:\n",
    "                print(\"Número inválido. Intenta de nuevo.\")\n",
    "        except ValueError:\n",
    "            print(\"Por favor, ingresa un número válido.\")\n",
    "\n",
    "    return texto_seleccionado"
   ]
  },
  {
   "cell_type": "code",
   "execution_count": null,
   "id": "0715affe-3ca7-4a43-8f16-10fa6fd57cf7",
   "metadata": {},
   "outputs": [],
   "source": [
    "def generar_imagen_publicitaria(texto, num_variantes):\n",
    "    openai.api_key = API_KEY\n",
    "    try:\n",
    "        response = openai.Image.create(\n",
    "            prompt=texto,\n",
    "            n=num_variantes,\n",
    "            size=\"512x512\"\n",
    "        )\n",
    "\n",
    "        imagenes_guardadas = []\n",
    "        for i, img_data in enumerate(response['data']):\n",
    "            imagen_url = img_data['url']\n",
    "\n",
    "            image_data = urlopen(imagen_url).read()\n",
    "            imagen = Image.open(BytesIO(image_data))\n",
    "            nombre_archivo = f\"imagen_publicitaria_{i+1}.png\"\n",
    "            imagen.save(nombre_archivo)\n",
    "            imagenes_guardadas.append(nombre_archivo)\n",
    "\n",
    "        return imagenes_guardadas\n",
    "\n",
    "    except Exception as e:\n",
    "        print(f\"Error al generar la imagen: {e}\")\n",
    "        return None"
   ]
  },
  {
   "cell_type": "code",
   "execution_count": null,
   "id": "a3840534-7cec-4df8-9d2b-330ca89f4ca5",
   "metadata": {
    "scrolled": true
   },
   "outputs": [],
   "source": [
    "descripcion = input(\"Describe brevemente tu empresa o producto: \")\n",
    "publico = input(\"¿Cuál es tu público objetivo? \")\n",
    "tono = input(\"¿Qué tono deseas para tu publicidad (por ejemplo, profesional, amigable, creativo)? \")\n",
    "num_variantes = int(input(\"¿Cuántas imágenes quieres generar? \"))"
   ]
  },
  {
   "cell_type": "code",
   "execution_count": null,
   "id": "54c3b933-8330-44e3-90ad-0fbc688b7d2f",
   "metadata": {
    "scrolled": true
   },
   "outputs": [],
   "source": [
    "try:\n",
    "    texto_generado = generar_texto_publicitario(descripcion, publico, tono)\n",
    "    print(\"\\nTexto Publicitario Generado:\\n\", texto_generado)\n",
    "\n",
    "    imagenes_generadas = generar_imagen_publicitaria(texto_generado, num_variantes)\n",
    "\n",
    "    if imagenes_generadas:\n",
    "        print(\"\\nImágenes guardadas en:\", \", \".join(imagenes_generadas))\n",
    "\n",
    "except Exception as e:\n",
    "    print(\"\\nOcurrió un error:\", e)"
   ]
  },
  {
   "cell_type": "code",
   "execution_count": null,
   "id": "da59f4dd-8d38-4d4c-a71f-4b2fcc1855c8",
   "metadata": {},
   "outputs": [],
   "source": []
  }
 ],
 "metadata": {
  "kernelspec": {
   "display_name": "Python 3 (ipykernel)",
   "language": "python",
   "name": "python3"
  },
  "language_info": {
   "codemirror_mode": {
    "name": "ipython",
    "version": 3
   },
   "file_extension": ".py",
   "mimetype": "text/x-python",
   "name": "python",
   "nbconvert_exporter": "python",
   "pygments_lexer": "ipython3",
   "version": "3.10.16"
  }
 },
 "nbformat": 4,
 "nbformat_minor": 5
}
