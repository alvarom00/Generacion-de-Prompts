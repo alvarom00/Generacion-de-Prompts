{
 "cells": [
  {
   "cell_type": "code",
   "execution_count": 1,
   "id": "9e9a423d-33e7-41f2-8fca-4c63043e7955",
   "metadata": {},
   "outputs": [],
   "source": [
    "from transformers import AutoTokenizer, AutoModelForSeq2SeqLM\n",
    "from diffusers import StableDiffusionPipeline\n",
    "import torch"
   ]
  },
  {
   "cell_type": "code",
   "execution_count": 2,
   "id": "b835d58c-e4dc-415e-820d-2a5b7b9d0465",
   "metadata": {},
   "outputs": [],
   "source": [
    "def generar_texto_publicitario(descripcion, publico, tono):\n",
    "    modelo_texto = \"google/flan-t5-small\"\n",
    "    tokenizer = AutoTokenizer.from_pretrained(modelo_texto)\n",
    "    modelo = AutoModelForSeq2SeqLM.from_pretrained(modelo_texto)\n",
    "\n",
    "  \n",
    "    prompt = f\"Genera un eslogan publicitario descriptivo, aleatorio, original y atractivo para una empresa. Descripción: {descripcion}. Público objetivo: {publico}. Tono: {tono}.\"\n",
    "    inputs = tokenizer(prompt, return_tensors=\"pt\", truncation=True)\n",
    "    outputs = modelo.generate(\n",
    "        inputs.input_ids,\n",
    "        max_new_tokens=100,\n",
    "        num_return_sequences=1,\n",
    "        repetition_penalty=1.2 \n",
    "    )\n",
    "    texto_generado = tokenizer.decode(outputs[0], skip_special_tokens=True)\n",
    "    return texto_generado.strip()"
   ]
  },
  {
   "cell_type": "code",
   "execution_count": 3,
   "id": "0715affe-3ca7-4a43-8f16-10fa6fd57cf7",
   "metadata": {},
   "outputs": [],
   "source": [
    "def generar_imagen_publicitaria(texto):\n",
    "    modelo_imagen = \"CompVis/stable-diffusion-v1-4\"\n",
    "    pipe = StableDiffusionPipeline.from_pretrained(modelo_imagen)\n",
    "    pipe.to(\"cuda\" if torch.cuda.is_available() else \"cpu\")\n",
    "\n",
    "    # Generar imagen basada en texto\n",
    "    imagen = pipe(texto).images[0]\n",
    "    imagen.save(\"imagen_publicitaria.png\")\n",
    "    return \"imagen_publicitaria.png\""
   ]
  },
  {
   "cell_type": "code",
   "execution_count": null,
   "id": "a3840534-7cec-4df8-9d2b-330ca89f4ca5",
   "metadata": {
    "scrolled": true
   },
   "outputs": [],
   "source": [
    "descripcion = input(\"Describe brevemente tu empresa o producto: \")\n",
    "publico = input(\"¿Cuál es tu público objetivo? \")\n",
    "tono = input(\"¿Qué tono deseas para tu publicidad (por ejemplo, profesional, amigable, creativo)? \")"
   ]
  },
  {
   "cell_type": "code",
   "execution_count": null,
   "id": "54c3b933-8330-44e3-90ad-0fbc688b7d2f",
   "metadata": {},
   "outputs": [],
   "source": [
    "# Generar texto e imagen publicitaria\n",
    "try:\n",
    "    texto_generado = generar_texto_publicitario(descripcion, publico, tono)\n",
    "    print(\"\\nTexto Publicitario Generado:\\n\", texto_generado)\n",
    "\n",
    "    imagen_generada = generar_imagen_publicitaria(texto_generado)\n",
    "    print(\"\\nImagen guardada en:\", imagen_generada)\n",
    "\n",
    "except Exception as e:\n",
    "    print(\"\\nOcurrió un error:\", e)"
   ]
  },
  {
   "cell_type": "code",
   "execution_count": null,
   "id": "da59f4dd-8d38-4d4c-a71f-4b2fcc1855c8",
   "metadata": {},
   "outputs": [],
   "source": []
  }
 ],
 "metadata": {
  "kernelspec": {
   "display_name": "Python 3 (ipykernel)",
   "language": "python",
   "name": "python3"
  },
  "language_info": {
   "codemirror_mode": {
    "name": "ipython",
    "version": 3
   },
   "file_extension": ".py",
   "mimetype": "text/x-python",
   "name": "python",
   "nbconvert_exporter": "python",
   "pygments_lexer": "ipython3",
   "version": "3.10.16"
  }
 },
 "nbformat": 4,
 "nbformat_minor": 5
}
